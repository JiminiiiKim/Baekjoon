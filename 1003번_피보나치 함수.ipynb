{
 "cells": [
  {
   "cell_type": "markdown",
   "id": "e9c21572",
   "metadata": {},
   "source": [
    "## 1003번 피보나치 함수"
   ]
  },
  {
   "cell_type": "markdown",
   "id": "6bb9cd41",
   "metadata": {},
   "source": [
    "fibonacci(N)을 호출했을 때, 0과 1이 각각 몇 번 출력되는지 구하는 프로그램을 작성하시오."
   ]
  },
  {
   "cell_type": "code",
   "execution_count": 1,
   "id": "d778b1c2",
   "metadata": {},
   "outputs": [
    {
     "name": "stdout",
     "output_type": "stream",
     "text": [
      "3\n",
      "4\n",
      "2 3\n",
      "7\n",
      "8 13\n",
      "16\n",
      "610 987\n"
     ]
    }
   ],
   "source": [
    "zero = [1, 0, 1]\n",
    "one = [0, 1, 1]\n",
    "\n",
    "def fibonacci(num) :\n",
    "    length = len(zero)\n",
    "    if num >= length :\n",
    "        for i in range(length, num+1) :\n",
    "            zero.append(zero[i-1] + zero[i-2])\n",
    "            one.append(one[i-1] + one[i-2])\n",
    "    print(zero[num], one[num])\n",
    "    \n",
    "N = int(input())\n",
    "\n",
    "for i in range(N) :\n",
    "    fibonacci(int(input()))"
   ]
  },
  {
   "cell_type": "markdown",
   "id": "3de5bd85",
   "metadata": {},
   "source": [
    "DP 사용 -> 배열 사용\n",
    "\n",
    "Memoization : 컴퓨터 프로그램이 동일한 계산을 반복해야 할 때, 이전에 계산한 값을 메모리에 저장함으로써 이미 구한 숫자를 다시 구하는 일을 방지함. 동적 계획법의 핵심이 되는 기술임.\n",
    "\n",
    "'fibonacci(n)의 0과 1 호출 횟수' = 'fibonacci(n-1)의 0과 1 호출 횟수' + 'fibonacci(n-2)의 0과 1 호출 횟수'"
   ]
  }
 ],
 "metadata": {
  "kernelspec": {
   "display_name": "Python 3 (ipykernel)",
   "language": "python",
   "name": "python3"
  },
  "language_info": {
   "codemirror_mode": {
    "name": "ipython",
    "version": 3
   },
   "file_extension": ".py",
   "mimetype": "text/x-python",
   "name": "python",
   "nbconvert_exporter": "python",
   "pygments_lexer": "ipython3",
   "version": "3.9.12"
  }
 },
 "nbformat": 4,
 "nbformat_minor": 5
}
