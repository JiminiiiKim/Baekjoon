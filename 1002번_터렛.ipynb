{
 "cells": [
  {
   "cell_type": "markdown",
   "id": "4af214ad",
   "metadata": {},
   "source": [
    "map(변환 함수, 순회 가능한 데이터)\n",
    "\n",
    "list(map(형, 문자열.split()))"
   ]
  },
  {
   "cell_type": "code",
   "execution_count": 1,
   "id": "647a5995",
   "metadata": {},
   "outputs": [],
   "source": [
    "users = [{'mail': 'gregorythomas@gmail.com', 'name': 'Brett Holland', 'sex': 'M'}, \n",
    "         {'mail': 'hintoncynthia@hotmail.com', 'name': 'Madison Martinez', 'sex': 'F'},\n",
    "         {'mail': 'wwagner@gmail.com', 'name': 'Michael Jenkins', 'sex': 'M'},\n",
    "         {'mail': 'daniel79@gmail.com', 'name': 'Karen Rodriguez', 'sex': 'F'},\n",
    "         {'mail': 'ujackson@gmail.com', 'name': 'Amber Rhodes', 'sex': 'F'}]"
   ]
  },
  {
   "cell_type": "code",
   "execution_count": 5,
   "id": "a842d362",
   "metadata": {},
   "outputs": [],
   "source": [
    "def conver_to_name(user) :\n",
    "    first, last = user[\"name\"].split()\n",
    "    return {\"first\" : first, \"last\" : last}"
   ]
  },
  {
   "cell_type": "code",
   "execution_count": 6,
   "id": "82adefda",
   "metadata": {},
   "outputs": [
    {
     "name": "stdout",
     "output_type": "stream",
     "text": [
      "{'first': 'Brett', 'last': 'Holland'}\n",
      "{'first': 'Madison', 'last': 'Martinez'}\n",
      "{'first': 'Michael', 'last': 'Jenkins'}\n",
      "{'first': 'Karen', 'last': 'Rodriguez'}\n",
      "{'first': 'Amber', 'last': 'Rhodes'}\n"
     ]
    }
   ],
   "source": [
    "for name in map(conver_to_name, users) :\n",
    "    print(name)"
   ]
  },
  {
   "cell_type": "code",
   "execution_count": 4,
   "id": "99f9bc52",
   "metadata": {},
   "outputs": [
    {
     "name": "stdout",
     "output_type": "stream",
     "text": [
      "남\n",
      "여\n",
      "남\n",
      "여\n",
      "여\n"
     ]
    }
   ],
   "source": [
    "for mail in map(lambda u : \"남\" if u[\"sex\"] == \"M\" else \"여\", users) :\n",
    "    print(mail)"
   ]
  },
  {
   "cell_type": "markdown",
   "id": "4c36e727",
   "metadata": {},
   "source": [
    "r1 + r2 < d 이면 두 원은 서로의 외부에 위치한다.\n",
    "\n",
    "r1 + r2 = d 이면 두 원은 외접한다.\n",
    "\n",
    "|r1 - r2| < d < r1 + r2 이면 두 원은 서로 다른 두 점에서 만난다.\n",
    "\n",
    "|r1 - r2| = d 이면 한 원이 다른 원에 내접한다.\n",
    "\n",
    "|r1 - r2| > d, r1 ≠ r2 이면 한 원이 다른 원의 내부에 있다."
   ]
  },
  {
   "cell_type": "code",
   "execution_count": null,
   "id": "ceee7395",
   "metadata": {},
   "outputs": [],
   "source": [
    "import math\n",
    "\n",
    "n = int(input())\n",
    "\n",
    "for i in range(n):\n",
    "    x1, y1, r1, x2, y2, r2 = map(int, input().split())\n",
    "    distance = math.sqrt((x1-x2)**2 + (y1-y2)**2)  \n",
    "    # 동심원이며 반지름이 같을 때\n",
    "    if distance == 0 and r1 == r2 :\n",
    "        print(-1)\n",
    "    # 내접, 외접일 때\n",
    "    elif abs(r1-r2) == distance or r1 + r2 == distance :  \n",
    "        print(1)\n",
    "    # 두 원이 서로 다른 두 점에서 만날 때\n",
    "    elif abs(r1-r2) < distance < (r1+r2) : \n",
    "        print(2)\n",
    "    # 그 외\n",
    "    else :\n",
    "        print(0) "
   ]
  }
 ],
 "metadata": {
  "kernelspec": {
   "display_name": "Python 3 (ipykernel)",
   "language": "python",
   "name": "python3"
  },
  "language_info": {
   "codemirror_mode": {
    "name": "ipython",
    "version": 3
   },
   "file_extension": ".py",
   "mimetype": "text/x-python",
   "name": "python",
   "nbconvert_exporter": "python",
   "pygments_lexer": "ipython3",
   "version": "3.9.12"
  }
 },
 "nbformat": 4,
 "nbformat_minor": 5
}
